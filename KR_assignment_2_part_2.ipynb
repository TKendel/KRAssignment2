{
  "cells": [
    {
      "cell_type": "code",
      "execution_count": 15,
      "metadata": {
        "id": "emskL4wsdp4i"
      },
      "outputs": [],
      "source": [
        "import json\n",
        "from itertools import combinations\n",
        "\n",
        "def read_argumentation_framework(file_path):\n",
        "    with open(file_path, 'r') as file:\n",
        "        data = json.load(file)\n",
        "        arguments = set(data['Arguments'].keys())\n",
        "        attacks = {(source, target) for source, target in data['Attack Relations']}\n",
        "        return arguments, attacks"
      ]
    },
    {
      "cell_type": "code",
      "execution_count": 16,
      "metadata": {
        "id": "6nBQ9Yu6jc2k"
      },
      "outputs": [],
      "source": [
        "def is_conflict_free(attacks, subset):\n",
        "    return not any((a, b) in attacks for a in subset for b in subset)\n",
        "\n",
        "def defends(attacks, subset, argument):\n",
        "    return all(any((defender, attacker) in attacks for defender in subset) for attacker, attacked in attacks if attacked == argument)\n",
        "\n",
        "def powerset(s):\n",
        "    return [set(subset) for r in range(len(s)+1) for subset in combinations(s, r)]"
      ]
    },
    {
      "cell_type": "code",
      "execution_count": 17,
      "metadata": {
        "id": "2TSsFm5PVxP1"
      },
      "outputs": [],
      "source": [
        "def is_admissible(arguments, attacks, subset):\n",
        "    if not is_conflict_free(attacks, subset):\n",
        "        return False\n",
        "    for arg in subset:\n",
        "        if not defends(attacks, subset, arg):\n",
        "            return False\n",
        "    return True\n",
        "\n",
        "def find_preferred_extensions(arguments, attacks):\n",
        "    all_subsets = sorted(powerset(arguments), key=lambda s: len(s), reverse=True)\n",
        "    preferred_extensions = []\n",
        "    for subset in all_subsets:\n",
        "        if is_admissible(arguments, attacks, subset):\n",
        "            if not any(subset < ext for ext in preferred_extensions):\n",
        "                preferred_extensions.append(subset)\n",
        "    return preferred_extensions"
      ]
    },
    {
      "cell_type": "code",
      "execution_count": 18,
      "metadata": {
        "id": "KwWl74gnjeWX"
      },
      "outputs": [],
      "source": [
        "def is_credulously_accepted(arguments, attacks, argument):\n",
        "    preferred_extensions = find_preferred_extensions(arguments, attacks)\n",
        "    return any(argument in ext for ext in preferred_extensions)"
      ]
    },
    {
      "cell_type": "code",
      "execution_count": 19,
      "metadata": {
        "id": "T8rl_fwWjeYv"
      },
      "outputs": [],
      "source": [
        "af_file_path = './AF_2.json'\n",
        "arguments, attacks = read_argumentation_framework(af_file_path)\n",
        "argument_to_check = '1'"
      ]
    },
    {
      "cell_type": "code",
      "execution_count": 27,
      "metadata": {
        "id": "SShbaU02jebQ"
      },
      "outputs": [
        {
          "name": "stdout",
          "output_type": "stream",
          "text": [
            "Is Argument '1' credulously accepted? \n",
            " Response: True\n"
          ]
        },
        {
          "ename": "ValueError",
          "evalue": "stmt is neither a string nor callable",
          "output_type": "error",
          "traceback": [
            "\u001b[1;31m---------------------------------------------------------------------------\u001b[0m",
            "\u001b[1;31mValueError\u001b[0m                                Traceback (most recent call last)",
            "Cell \u001b[1;32mIn[27], line 4\u001b[0m\n\u001b[0;32m      2\u001b[0m credulously_accepted \u001b[38;5;241m=\u001b[39m is_credulously_accepted(arguments, attacks, argument_to_check)\n\u001b[0;32m      3\u001b[0m \u001b[38;5;28mprint\u001b[39m(\u001b[38;5;124mf\u001b[39m\u001b[38;5;124m\"\u001b[39m\u001b[38;5;124mIs Argument \u001b[39m\u001b[38;5;124m'\u001b[39m\u001b[38;5;132;01m{\u001b[39;00margument_to_check\u001b[38;5;132;01m}\u001b[39;00m\u001b[38;5;124m'\u001b[39m\u001b[38;5;124m credulously accepted? \u001b[39m\u001b[38;5;130;01m\\n\u001b[39;00m\u001b[38;5;124m Response: \u001b[39m\u001b[38;5;132;01m{\u001b[39;00mcredulously_accepted\u001b[38;5;132;01m}\u001b[39;00m\u001b[38;5;124m\"\u001b[39m)\n\u001b[1;32m----> 4\u001b[0m \u001b[38;5;28mprint\u001b[39m(\u001b[43mtimeit\u001b[49m\u001b[38;5;241;43m.\u001b[39;49m\u001b[43mtimeit\u001b[49m\u001b[43m(\u001b[49m\u001b[43mcredulously_accepted\u001b[49m\u001b[43m)\u001b[49m)\n",
            "File \u001b[1;32mc:\\Users\\Toni\\AppData\\Local\\Programs\\Python\\Python311\\Lib\\timeit.py:234\u001b[0m, in \u001b[0;36mtimeit\u001b[1;34m(stmt, setup, timer, number, globals)\u001b[0m\n\u001b[0;32m    231\u001b[0m \u001b[38;5;28;01mdef\u001b[39;00m \u001b[38;5;21mtimeit\u001b[39m(stmt\u001b[38;5;241m=\u001b[39m\u001b[38;5;124m\"\u001b[39m\u001b[38;5;124mpass\u001b[39m\u001b[38;5;124m\"\u001b[39m, setup\u001b[38;5;241m=\u001b[39m\u001b[38;5;124m\"\u001b[39m\u001b[38;5;124mpass\u001b[39m\u001b[38;5;124m\"\u001b[39m, timer\u001b[38;5;241m=\u001b[39mdefault_timer,\n\u001b[0;32m    232\u001b[0m            number\u001b[38;5;241m=\u001b[39mdefault_number, \u001b[38;5;28mglobals\u001b[39m\u001b[38;5;241m=\u001b[39m\u001b[38;5;28;01mNone\u001b[39;00m):\n\u001b[0;32m    233\u001b[0m \u001b[38;5;250m    \u001b[39m\u001b[38;5;124;03m\"\"\"Convenience function to create Timer object and call timeit method.\"\"\"\u001b[39;00m\n\u001b[1;32m--> 234\u001b[0m     \u001b[38;5;28;01mreturn\u001b[39;00m \u001b[43mTimer\u001b[49m\u001b[43m(\u001b[49m\u001b[43mstmt\u001b[49m\u001b[43m,\u001b[49m\u001b[43m \u001b[49m\u001b[43msetup\u001b[49m\u001b[43m,\u001b[49m\u001b[43m \u001b[49m\u001b[43mtimer\u001b[49m\u001b[43m,\u001b[49m\u001b[43m \u001b[49m\u001b[38;5;28;43mglobals\u001b[39;49m\u001b[43m)\u001b[49m\u001b[38;5;241m.\u001b[39mtimeit(number)\n",
            "File \u001b[1;32mc:\\Users\\Toni\\AppData\\Local\\Programs\\Python\\Python311\\Lib\\timeit.py:130\u001b[0m, in \u001b[0;36mTimer.__init__\u001b[1;34m(self, stmt, setup, timer, globals)\u001b[0m\n\u001b[0;32m    128\u001b[0m     stmt \u001b[38;5;241m=\u001b[39m \u001b[38;5;124m'\u001b[39m\u001b[38;5;124m_stmt()\u001b[39m\u001b[38;5;124m'\u001b[39m\n\u001b[0;32m    129\u001b[0m \u001b[38;5;28;01melse\u001b[39;00m:\n\u001b[1;32m--> 130\u001b[0m     \u001b[38;5;28;01mraise\u001b[39;00m \u001b[38;5;167;01mValueError\u001b[39;00m(\u001b[38;5;124m\"\u001b[39m\u001b[38;5;124mstmt is neither a string nor callable\u001b[39m\u001b[38;5;124m\"\u001b[39m)\n\u001b[0;32m    131\u001b[0m src \u001b[38;5;241m=\u001b[39m template\u001b[38;5;241m.\u001b[39mformat(stmt\u001b[38;5;241m=\u001b[39mstmt, setup\u001b[38;5;241m=\u001b[39msetup, init\u001b[38;5;241m=\u001b[39minit)\n\u001b[0;32m    132\u001b[0m \u001b[38;5;28mself\u001b[39m\u001b[38;5;241m.\u001b[39msrc \u001b[38;5;241m=\u001b[39m src  \u001b[38;5;66;03m# Save for traceback display\u001b[39;00m\n",
            "\u001b[1;31mValueError\u001b[0m: stmt is neither a string nor callable"
          ]
        }
      ],
      "source": [
        "import time\n",
        "start_time = time.time()\n",
        "credulously_accepted = is_credulously_accepted(arguments, attacks, argument_to_check)\n",
        "end_time = time.time()\n",
        "print(f\"Running time: {end_time - start_time} seconds\")\n",
        "print(f\"Is Argument '{argument_to_check}' credulously accepted? \\n Response: {credulously_accepted}\")\n"
      ]
    },
    {
      "cell_type": "code",
      "execution_count": 21,
      "metadata": {
        "id": "mkWZgrm-xjDm"
      },
      "outputs": [],
      "source": [
        "af_file_path = './custom_AF.json'\n",
        "arguments, attacks = read_argumentation_framework(af_file_path)"
      ]
    },
    {
      "cell_type": "code",
      "execution_count": 22,
      "metadata": {
        "id": "NEBGai8vxk3e"
      },
      "outputs": [
        {
          "name": "stdout",
          "output_type": "stream",
          "text": [
            "Is Argument 'I' credulously accepted? \n",
            " Response: True\n",
            "Running time: 0.0020036697387695312 seconds\n",
            "Is Argument 'C' credulously accepted? \n",
            " Response: False\n",
            "Running time: 0.0020017623901367188 seconds\n",
            "Is Argument 'H' credulously accepted? \n",
            " Response: False\n",
            "Running time: 0.0322413444519043 seconds\n",
            "Is Argument 'D' credulously accepted? \n",
            " Response: True\n",
            "Running time: 0.0021071434020996094 seconds\n",
            "Is Argument 'G' credulously accepted? \n",
            " Response: False\n",
            "Running time: 0.0010023117065429688 seconds\n",
            "Is Argument 'J' credulously accepted? \n",
            " Response: True\n",
            "Running time: 0.0020859241485595703 seconds\n",
            "Is Argument 'A' credulously accepted? \n",
            " Response: False\n",
            "Running time: 0.0019707679748535156 seconds\n",
            "Is Argument 'E' credulously accepted? \n",
            " Response: False\n",
            "Running time: 0.002001523971557617 seconds\n",
            "Is Argument 'B' credulously accepted? \n",
            " Response: True\n",
            "Running time: 0.0010013580322265625 seconds\n",
            "Is Argument 'F' credulously accepted? \n",
            " Response: True\n",
            "Running time: 0.0029969215393066406 seconds\n"
          ]
        }
      ],
      "source": [
        "import time\n",
        "for arg in arguments:\n",
        "  start_time = time.time()\n",
        "  credulously_accepted = is_credulously_accepted(arguments, attacks, arg)\n",
        "  print(f\"Is Argument '{arg}' credulously accepted? \\n Response: {credulously_accepted}\")\n",
        "  end_time = time.time()\n",
        "  running_time = end_time - start_time\n",
        "  print(f\"Running time: {running_time} seconds\")"
      ]
    },
    {
      "cell_type": "code",
      "execution_count": 23,
      "metadata": {
        "id": "A207gLMM69uP"
      },
      "outputs": [],
      "source": [
        "af_file_path = './AF_2.json'\n",
        "arguments, attacks = read_argumentation_framework(af_file_path)"
      ]
    },
    {
      "cell_type": "code",
      "execution_count": 24,
      "metadata": {
        "id": "gWOPPGHy69wp"
      },
      "outputs": [
        {
          "name": "stdout",
          "output_type": "stream",
          "text": [
            "Is Argument '5' credulously accepted? \n",
            " Response: True\n",
            "Running time: 0.0010027885437011719 seconds\n",
            "Is Argument '3' credulously accepted? \n",
            " Response: True\n",
            "Running time: 0.0 seconds\n",
            "Is Argument '1' credulously accepted? \n",
            " Response: True\n",
            "Running time: 0.0 seconds\n",
            "Is Argument '4' credulously accepted? \n",
            " Response: False\n",
            "Running time: 0.0 seconds\n",
            "Is Argument '6' credulously accepted? \n",
            " Response: False\n",
            "Running time: 0.0 seconds\n",
            "Is Argument '2' credulously accepted? \n",
            " Response: False\n",
            "Running time: 0.0 seconds\n"
          ]
        }
      ],
      "source": [
        "import time\n",
        "for arg in arguments:\n",
        "  start_time = time.time()\n",
        "  credulously_accepted = is_credulously_accepted(arguments, attacks, arg)\n",
        "  print(f\"Is Argument '{arg}' credulously accepted? \\n Response: {credulously_accepted}\")\n",
        "  end_time = time.time()\n",
        "  running_time = end_time - start_time\n",
        "  print(f\"Running time: {running_time} seconds\")"
      ]
    }
  ],
  "metadata": {
    "colab": {
      "provenance": []
    },
    "kernelspec": {
      "display_name": "Python 3",
      "name": "python3"
    },
    "language_info": {
      "codemirror_mode": {
        "name": "ipython",
        "version": 3
      },
      "file_extension": ".py",
      "mimetype": "text/x-python",
      "name": "python",
      "nbconvert_exporter": "python",
      "pygments_lexer": "ipython3",
      "version": "3.11.5"
    }
  },
  "nbformat": 4,
  "nbformat_minor": 0
}
