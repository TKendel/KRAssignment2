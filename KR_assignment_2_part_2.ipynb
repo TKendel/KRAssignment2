{
  "nbformat": 4,
  "nbformat_minor": 0,
  "metadata": {
    "colab": {
      "provenance": []
    },
    "kernelspec": {
      "name": "python3",
      "display_name": "Python 3"
    },
    "language_info": {
      "name": "python"
    }
  },
  "cells": [
    {
      "cell_type": "code",
      "execution_count": 6,
      "metadata": {
        "id": "emskL4wsdp4i"
      },
      "outputs": [],
      "source": [
        "import json\n",
        "from itertools import combinations\n",
        "\n",
        "def read_argumentation_framework(file_path):\n",
        "    with open(file_path, 'r') as file:\n",
        "        data = json.load(file)\n",
        "        arguments = set(data['Arguments'].keys())\n",
        "        attacks = {(source, target) for source, target in data['Attack Relations']}\n",
        "        return arguments, attacks"
      ]
    },
    {
      "cell_type": "code",
      "source": [
        "def is_conflict_free(attacks, subset):\n",
        "    return not any((a, b) in attacks for a in subset for b in subset)\n",
        "\n",
        "def defends(attacks, subset, argument):\n",
        "    return all(any((defender, attacker) in attacks for defender in subset) for attacker, attacked in attacks if attacked == argument)\n",
        "\n",
        "def powerset(s):\n",
        "    return [set(subset) for r in range(len(s)+1) for subset in combinations(s, r)]"
      ],
      "metadata": {
        "id": "6nBQ9Yu6jc2k"
      },
      "execution_count": 7,
      "outputs": []
    },
    {
      "cell_type": "code",
      "source": [
        "def is_admissible(arguments, attacks, subset):\n",
        "    if not is_conflict_free(attacks, subset):\n",
        "        return False\n",
        "    for arg in subset:\n",
        "        if not defends(attacks, subset, arg):\n",
        "            return False\n",
        "    return True\n",
        "\n",
        "def find_preferred_extensions(arguments, attacks):\n",
        "    all_subsets = sorted(powerset(arguments), key=lambda s: len(s), reverse=True)\n",
        "    preferred_extensions = []\n",
        "    for subset in all_subsets:\n",
        "        if is_admissible(arguments, attacks, subset):\n",
        "            if not any(subset < ext for ext in preferred_extensions):\n",
        "                preferred_extensions.append(subset)\n",
        "    return preferred_extensions"
      ],
      "metadata": {
        "id": "2TSsFm5PVxP1"
      },
      "execution_count": 9,
      "outputs": []
    },
    {
      "cell_type": "code",
      "source": [
        "def is_credulously_accepted(arguments, attacks, argument):\n",
        "    preferred_extensions = find_preferred_extensions(arguments, attacks)\n",
        "    return any(argument in ext for ext in preferred_extensions)"
      ],
      "metadata": {
        "id": "KwWl74gnjeWX"
      },
      "execution_count": 8,
      "outputs": []
    },
    {
      "cell_type": "code",
      "source": [
        "af_file_path = './example-argumentation-framework.json'\n",
        "arguments, attacks = read_argumentation_framework(af_file_path)\n",
        "argument_to_check = '1'"
      ],
      "metadata": {
        "id": "T8rl_fwWjeYv"
      },
      "execution_count": 10,
      "outputs": []
    },
    {
      "cell_type": "code",
      "source": [
        "credulously_accepted = is_credulously_accepted(arguments, attacks, argument_to_check)\n",
        "print(f\"Is Argument '{argument_to_check}' credulously accepted? \\n Response: {credulously_accepted}\")"
      ],
      "metadata": {
        "id": "SShbaU02jebQ"
      },
      "execution_count": null,
      "outputs": []
    },
    {
      "cell_type": "code",
      "source": [
        "af_file_path = './custom_AF.json'\n",
        "arguments, attacks = read_argumentation_framework(af_file_path)"
      ],
      "metadata": {
        "id": "mkWZgrm-xjDm"
      },
      "execution_count": 26,
      "outputs": []
    },
    {
      "cell_type": "code",
      "source": [
        "import time\n",
        "for arg in arguments:\n",
        "  start_time = time.time()\n",
        "  credulously_accepted = is_credulously_accepted(arguments, attacks, arg)\n",
        "  print(f\"Is Argument '{arg}' credulously accepted? \\n Response: {credulously_accepted}\")\n",
        "  end_time = time.time()\n",
        "  running_time = end_time - start_time\n",
        "  print(f\"Running time: {running_time} seconds\")"
      ],
      "metadata": {
        "id": "NEBGai8vxk3e"
      },
      "execution_count": null,
      "outputs": []
    },
    {
      "cell_type": "code",
      "source": [
        "af_file_path = './example-argumentation-framework.json'\n",
        "arguments, attacks = read_argumentation_framework(af_file_path)"
      ],
      "metadata": {
        "id": "A207gLMM69uP"
      },
      "execution_count": 28,
      "outputs": []
    },
    {
      "cell_type": "code",
      "source": [
        "import time\n",
        "for arg in arguments:\n",
        "  start_time = time.time()\n",
        "  credulously_accepted = is_credulously_accepted(arguments, attacks, arg)\n",
        "  print(f\"Is Argument '{arg}' credulously accepted? \\n Response: {credulously_accepted}\")\n",
        "  end_time = time.time()\n",
        "  running_time = end_time - start_time\n",
        "  print(f\"Running time: {running_time} seconds\")"
      ],
      "metadata": {
        "id": "gWOPPGHy69wp"
      },
      "execution_count": null,
      "outputs": []
    }
  ]
}