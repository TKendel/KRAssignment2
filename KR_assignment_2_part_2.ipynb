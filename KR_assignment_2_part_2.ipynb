{
  "nbformat": 4,
  "nbformat_minor": 0,
  "metadata": {
    "colab": {
      "provenance": []
    },
    "kernelspec": {
      "name": "python3",
      "display_name": "Python 3"
    },
    "language_info": {
      "name": "python"
    }
  },
  "cells": [
    {
      "cell_type": "code",
      "execution_count": null,
      "metadata": {
        "id": "emskL4wsdp4i"
      },
      "outputs": [],
      "source": [
        "import json\n",
        "from itertools import combinations\n",
        "\n",
        "def read_argumentation_framework(file_path):\n",
        "    with open(file_path, 'r') as file:\n",
        "        data = json.load(file)\n",
        "        arguments = set(data['Arguments'].keys())\n",
        "        attacks = {(source, target) for source, target in data['Attack Relations']}\n",
        "        return arguments, attacks"
      ]
    },
    {
      "cell_type": "code",
      "source": [
        "def is_conflict_free(attacks, subset):\n",
        "    return not any((a, b) in attacks for a in subset for b in subset)\n",
        "\n",
        "def defends(attacks, subset, argument):\n",
        "    return all(any((defender, attacker) in attacks for defender in subset) for attacker, attacked in attacks if attacked == argument)\n",
        "\n",
        "def powerset(s):\n",
        "    return [set(subset) for r in range(len(s)+1) for subset in combinations(s, r)]"
      ],
      "metadata": {
        "id": "6nBQ9Yu6jc2k"
      },
      "execution_count": null,
      "outputs": []
    },
    {
      "cell_type": "code",
      "source": [
        "\n",
        "def is_admissible(arguments, attacks, subset):\n",
        "    return is_conflict_free(attacks, subset) and all(defends(attacks, subset, arg) for arg in subset)"
      ],
      "metadata": {
        "id": "tAzfLwJ8jc5J"
      },
      "execution_count": null,
      "outputs": []
    },
    {
      "cell_type": "code",
      "source": [
        "def find_preferred_extensions(arguments, attacks):\n",
        "    admissible_sets = [s for s in powerset(arguments) if is_admissible(arguments, attacks, s)]\n",
        "    return [a for a in admissible_sets if not any(a < b for b in admissible_sets)]\n",
        "\n",
        "def is_credulously_accepted(arguments, attacks, argument):\n",
        "    preferred_extensions = find_preferred_extensions(arguments, attacks)\n",
        "    return any(argument in ext for ext in preferred_extensions)"
      ],
      "metadata": {
        "id": "KwWl74gnjeWX"
      },
      "execution_count": null,
      "outputs": []
    },
    {
      "cell_type": "code",
      "source": [
        "# improved\n",
        "\n",
        "def is_admissible(arguments, attacks, subset):\n",
        "    if not is_conflict_free(attacks, subset):\n",
        "        return False\n",
        "    for arg in subset:\n",
        "        if not defends(attacks, subset, arg):\n",
        "            return False\n",
        "    return True\n",
        "\n",
        "def find_preferred_extensions(arguments, attacks):\n",
        "    all_subsets = sorted(powerset(arguments), key=lambda s: len(s), reverse=True)\n",
        "    preferred_extensions = []\n",
        "    for subset in all_subsets:\n",
        "        if is_admissible(arguments, attacks, subset):\n",
        "            if not any(subset < ext for ext in preferred_extensions):\n",
        "                preferred_extensions.append(subset)\n",
        "    return preferred_extensions"
      ],
      "metadata": {
        "id": "2TSsFm5PVxP1"
      },
      "execution_count": null,
      "outputs": []
    },
    {
      "cell_type": "code",
      "source": [
        "af_file_path = './example-argumentation-framework.json'\n",
        "arguments, attacks = read_argumentation_framework(af_file_path)\n",
        "argument_to_check = '1'"
      ],
      "metadata": {
        "id": "T8rl_fwWjeYv"
      },
      "execution_count": null,
      "outputs": []
    },
    {
      "cell_type": "code",
      "source": [
        "credulously_accepted = is_credulously_accepted(arguments, attacks, argument_to_check)\n",
        "print(f\"Is Argument '{argument_to_check}' credulously accepted? \\n Response: {credulously_accepted}\")"
      ],
      "metadata": {
        "colab": {
          "base_uri": "https://localhost:8080/"
        },
        "id": "SShbaU02jebQ",
        "outputId": "34076890-d1e7-4c6f-b3c2-d3ac848556d8"
      },
      "execution_count": null,
      "outputs": [
        {
          "output_type": "stream",
          "name": "stdout",
          "text": [
            "Is Argument '1' credulously accepted? \n",
            " Response: True\n"
          ]
        }
      ]
    },
    {
      "cell_type": "code",
      "source": [
        "af_file_path = './custom_AF.json'\n",
        "arguments, attacks = read_argumentation_framework(af_file_path)"
      ],
      "metadata": {
        "id": "mkWZgrm-xjDm"
      },
      "execution_count": null,
      "outputs": []
    },
    {
      "cell_type": "code",
      "source": [
        "for arg in arguments:\n",
        "  credulously_accepted = is_credulously_accepted(arguments, attacks, arg)\n",
        "  print(f\"Is Argument '{argument_to_check}' credulously accepted? \\n Response: {credulously_accepted}\")"
      ],
      "metadata": {
        "colab": {
          "base_uri": "https://localhost:8080/"
        },
        "id": "NEBGai8vxk3e",
        "outputId": "e2afbdd4-6a21-4845-83ae-2fe4b92b2141"
      },
      "execution_count": null,
      "outputs": [
        {
          "output_type": "stream",
          "name": "stdout",
          "text": [
            "Is Argument '1' credulously accepted? \n",
            " Response: True\n",
            "Is Argument '1' credulously accepted? \n",
            " Response: False\n",
            "Is Argument '1' credulously accepted? \n",
            " Response: True\n",
            "Is Argument '1' credulously accepted? \n",
            " Response: True\n",
            "Is Argument '1' credulously accepted? \n",
            " Response: True\n",
            "Is Argument '1' credulously accepted? \n",
            " Response: False\n",
            "Is Argument '1' credulously accepted? \n",
            " Response: False\n",
            "Is Argument '1' credulously accepted? \n",
            " Response: True\n",
            "Is Argument '1' credulously accepted? \n",
            " Response: False\n",
            "Is Argument '1' credulously accepted? \n",
            " Response: False\n"
          ]
        }
      ]
    },
    {
      "cell_type": "code",
      "source": [],
      "metadata": {
        "id": "A207gLMM69uP"
      },
      "execution_count": null,
      "outputs": []
    },
    {
      "cell_type": "code",
      "source": [],
      "metadata": {
        "id": "gWOPPGHy69wp"
      },
      "execution_count": null,
      "outputs": []
    },
    {
      "cell_type": "code",
      "source": [],
      "metadata": {
        "id": "y6HOCYix69zB"
      },
      "execution_count": null,
      "outputs": []
    }
  ]
}