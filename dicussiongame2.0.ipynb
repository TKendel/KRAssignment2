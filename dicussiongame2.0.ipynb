{
 "cells": [
  {
   "cell_type": "code",
   "execution_count": 17,
   "id": "19e94d6c3f06552d",
   "metadata": {
    "collapsed": false
   },
   "outputs": [],
   "source": [
    "import json\n",
    "with open('AF_4.json') as user_file:\n",
    "  file_contents = user_file.read()\n",
    "parsed_json = json.loads(file_contents)"
   ]
  },
  {
   "cell_type": "code",
   "execution_count": 18,
   "id": "initial_id",
   "metadata": {
    "collapsed": true
   },
   "outputs": [
    {
     "name": "stdout",
     "output_type": "stream",
     "text": [
      "Opponent, choose an argument to attack {'3'}: \n",
      "Opponent chooses argument: 3\n",
      "Proponent chooses argument: 5\n",
      "Opponent, choose an argument to attack {'4'}: \n",
      "Invalid choice. Try again.\n",
      "Opponent wins\n"
     ]
    }
   ],
   "source": [
    "class ArgumentationFramework:\n",
    "    def __init__(self, attacks):\n",
    "        self.attacks = attacks  # List of tuples representing attacks\n",
    "\n",
    "    def get_attackers(self, argument):\n",
    "        \"\"\" Return a list of arguments that attack the given argument \"\"\"\n",
    "        return [attacker for attacker, attacked in self.attacks if attacked == argument]\n",
    "\n",
    "class DiscussionGame:\n",
    "    def __init__(self, framework, claimed_argument):\n",
    "        self.framework = framework\n",
    "        self.claimed_argument = claimed_argument\n",
    "        self.IN = set([claimed_argument])\n",
    "        self.OUT = set()\n",
    "        self.UNDEC = set(self.framework.get_attackers(claimed_argument))\n",
    "\n",
    "    def proponent_turn(self, last_out_argument):\n",
    "        # Proponent selects an argument from attackers of last_out_argument, excluding IN\n",
    "        potential_attackers = set(self.framework.get_attackers(last_out_argument))\n",
    "        # print(f\"potential_attackers: {potential_attackers}\")\n",
    "        # print(f\"IN: {self.IN}\")\n",
    "        # print(f\"OUT: {self.OUT}\")\n",
    "        if not potential_attackers:\n",
    "            return \"Opponent wins\", True\n",
    "        \n",
    "        potential_attackers = set(self.framework.get_attackers(last_out_argument)) - self.OUT\n",
    "\n",
    "        chosen_argument = potential_attackers.pop()\n",
    "        self.IN.add(chosen_argument)\n",
    "        print(f\"Proponent chooses argument: {chosen_argument}\")\n",
    "\n",
    "        # Update UNDEC with attackers of the chosen argument, excluding those in OUT\n",
    "        new_attackers = set(self.framework.get_attackers(chosen_argument)) - self.OUT\n",
    "        self.UNDEC.update(new_attackers)\n",
    "\n",
    "        return None, False\n",
    "\n",
    "    def opponent_turn(self):\n",
    "        # If UNDEC is empty, proponent wins\n",
    "        if not self.UNDEC:\n",
    "            return \"Proponent wins\", True\n",
    "\n",
    "        print(f\"Opponent, choose an argument to attack {self.UNDEC}: \")\n",
    "        chosen_argument = input(f\"Opponent, choose an argument to attack {self.UNDEC}: \")\n",
    "\n",
    "        # Check if the chosen argument is valid\n",
    "        if chosen_argument not in self.UNDEC:\n",
    "            print(\"Invalid choice. Try again.\")\n",
    "            return None, False\n",
    "\n",
    "        print(f\"Opponent chooses argument: {chosen_argument}\")\n",
    "        # Move chosen argument from UNDEC to OUT\n",
    "        self.UNDEC.remove(chosen_argument)\n",
    "        self.OUT.add(chosen_argument)\n",
    "\n",
    "        return chosen_argument, False\n",
    "\n",
    "    def play_game(self):\n",
    "        last_out_argument = None\n",
    "        while True:\n",
    "            result, game_over = self.opponent_turn()\n",
    "            if game_over:\n",
    "                print(result)\n",
    "                break\n",
    "\n",
    "            last_out_argument, game_over = result, False\n",
    "\n",
    "            result, game_over = self.proponent_turn(last_out_argument)\n",
    "            if game_over:\n",
    "                print(result)\n",
    "                break\n",
    "\n",
    "# Example Usage\n",
    "# attacks = [('0', '1'), ('1', '0'), ('2', '0'), ('3', '0'), ('3', '1'), ('4', '3'), ('5', '0'), ('5', '1'), ('6', '5')]\n",
    "attacks = parsed_json['Attack Relations']\n",
    "framework = ArgumentationFramework(attacks)\n",
    "game = DiscussionGame(framework, '4')\n",
    "game.play_game()"
   ]
  },
  {
   "cell_type": "code",
   "execution_count": null,
   "id": "a973cb541f853e0a",
   "metadata": {
    "collapsed": false
   },
   "outputs": [],
   "source": []
  }
 ],
 "metadata": {
  "kernelspec": {
   "display_name": "Python 3",
   "language": "python",
   "name": "python3"
  },
  "language_info": {
   "codemirror_mode": {
    "name": "ipython",
    "version": 3
   },
   "file_extension": ".py",
   "mimetype": "text/x-python",
   "name": "python",
   "nbconvert_exporter": "python",
   "pygments_lexer": "ipython3",
   "version": "3.11.7"
  }
 },
 "nbformat": 4,
 "nbformat_minor": 5
}
